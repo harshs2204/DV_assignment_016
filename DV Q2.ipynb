{
 "cells": [
  {
   "cell_type": "code",
   "execution_count": 2,
   "id": "008e66ef",
   "metadata": {},
   "outputs": [
    {
     "name": "stdout",
     "output_type": "stream",
     "text": [
      "Dataset Preview:\n",
      "   Video_ID  User_ID Username      Video_Title  Category  Likes  Comments  \\\n",
      "0       101        1    user1  Dance Challenge     Dance   1500       120   \n",
      "1       102        2    user2       Funny Skit    Comedy   2300       200   \n",
      "2       103        3    user3         Tutorial  Tutorial   1200       150   \n",
      "3       104        4    user4      Viral Dance     Dance   4500       500   \n",
      "4       105        5    user5    Comedy Sketch    Comedy   1800       180   \n",
      "\n",
      "   Shares  Views Upload_Date  Video_Length   Hashtags  User_Followers  \\\n",
      "0     300  50000  2024-08-01            30     #dance            1500   \n",
      "1     400  70000  2024-08-02            45     #funny            2000   \n",
      "2     250  40000  2024-08-03            60  #tutorial            1200   \n",
      "3     600  90000  2024-08-04            30     #viral            1800   \n",
      "4     210  50000  2024-08-05            45    #comedy            1500   \n",
      "\n",
      "   User_Following  User_Likes  \n",
      "0             300        5000  \n",
      "1             500        6000  \n",
      "2             200        3000  \n",
      "3             400        7000  \n",
      "4             350        4000  \n"
     ]
    }
   ],
   "source": [
    "import pandas as pd\n",
    "import numpy as np\n",
    "import matplotlib.pyplot as plt\n",
    "\n",
    "# Load the dataset\n",
    "data = pd.read_csv('tiktok_performance.csv')\n",
    "\n",
    "# Display the first few rows of the dataset\n",
    "print(\"Dataset Preview:\")\n",
    "print(data.head())"
   ]
  },
  {
   "cell_type": "code",
   "execution_count": 5,
   "id": "73046b81",
   "metadata": {},
   "outputs": [
    {
     "name": "stdout",
     "output_type": "stream",
     "text": [
      "\n",
      "First 5 Rows of the Dataset:\n",
      "   Video_ID  User_ID Username      Video_Title  Category  Likes  Comments  \\\n",
      "0       101        1    user1  Dance Challenge     Dance   1500       120   \n",
      "1       102        2    user2       Funny Skit    Comedy   2300       200   \n",
      "2       103        3    user3         Tutorial  Tutorial   1200       150   \n",
      "3       104        4    user4      Viral Dance     Dance   4500       500   \n",
      "4       105        5    user5    Comedy Sketch    Comedy   1800       180   \n",
      "\n",
      "   Shares  Views Upload_Date  Video_Length   Hashtags  User_Followers  \\\n",
      "0     300  50000  2024-08-01            30     #dance            1500   \n",
      "1     400  70000  2024-08-02            45     #funny            2000   \n",
      "2     250  40000  2024-08-03            60  #tutorial            1200   \n",
      "3     600  90000  2024-08-04            30     #viral            1800   \n",
      "4     210  50000  2024-08-05            45    #comedy            1500   \n",
      "\n",
      "   User_Following  User_Likes  \n",
      "0             300        5000  \n",
      "1             500        6000  \n",
      "2             200        3000  \n",
      "3             400        7000  \n",
      "4             350        4000  \n",
      "\n",
      "\n",
      "\n",
      "Iterating over rows:\n",
      "Video Title: Dance Challenge, Likes: 1500\n",
      "Video Title: Funny Skit, Likes: 2300\n",
      "Video Title: Tutorial, Likes: 1200\n",
      "Video Title: Viral Dance, Likes: 4500\n",
      "Video Title: Comedy Sketch, Likes: 1800\n"
     ]
    }
   ],
   "source": [
    "# Basic Pandas Operations\n",
    "\n",
    "# 1. Indexing: Accessing specific columns\n",
    "likes = data['Likes']\n",
    "views = data['Views']\n",
    "\n",
    "# 2. Slicing: Accessing the first 5 rows of the dataset\n",
    "first_five_rows = data.iloc[:5]\n",
    "print(\"\\nFirst 5 Rows of the Dataset:\")\n",
    "print(first_five_rows)\n",
    "\n",
    "print('\\n')\n",
    "\n",
    "# 3. Iterating over rows\n",
    "print(\"\\nIterating over rows:\")\n",
    "for index, row in data.iterrows():\n",
    "    print(f\"Video Title: {row['Video_Title']}, Likes: {row['Likes']}\")\n",
    "    "
   ]
  },
  {
   "cell_type": "code",
   "execution_count": 6,
   "id": "0f354c85",
   "metadata": {},
   "outputs": [
    {
     "name": "stdout",
     "output_type": "stream",
     "text": [
      "\n",
      "First 10 Likes:\n",
      "[1500 2300 1200 4500 1800]\n",
      "\n",
      "Likes from Index 10 to 20:\n",
      "[]\n",
      "\n",
      "First Half of Likes:\n",
      "[1500 2300]\n",
      "Second Half of Likes:\n",
      "[1200 4500 1800]\n",
      "\n",
      "Total Likes: 11300\n"
     ]
    }
   ],
   "source": [
    "# Basic NumPy Operations\n",
    "\n",
    "# Convert Likes and Views to NumPy arrays for further operations\n",
    "likes_array = np.array(data['Likes'])\n",
    "views_array = np.array(data['Views'])\n",
    "\n",
    "# 4. Indexing: Accessing the first 10 likes\n",
    "first_ten_likes = likes_array[:10]\n",
    "print(\"\\nFirst 10 Likes:\")\n",
    "print(first_ten_likes)\n",
    "\n",
    "# 5. Slicing: Get likes from index 10 to 20\n",
    "likes_slice = likes_array[10:21]\n",
    "print(\"\\nLikes from Index 10 to 20:\")\n",
    "print(likes_slice)\n",
    "\n",
    "# 6. Splitting: Split the array into two halves\n",
    "half_index = len(likes_array) // 2\n",
    "likes_split = np.split(likes_array, [half_index])\n",
    "print(\"\\nFirst Half of Likes:\")\n",
    "print(likes_split[0])\n",
    "print(\"Second Half of Likes:\")\n",
    "print(likes_split[1])\n",
    "\n",
    "# 7. Iterating: Calculate total likes using a loop\n",
    "total_likes = 0\n",
    "for like in likes_array:\n",
    "    total_likes += like\n",
    "print(f\"\\nTotal Likes: {total_likes}\")"
   ]
  },
  {
   "cell_type": "code",
   "execution_count": 7,
   "id": "e0e1c1d7",
   "metadata": {},
   "outputs": [
    {
     "name": "stdout",
     "output_type": "stream",
     "text": [
      "\n",
      "Likes Greater than 1000:\n",
      "[1500 2300 1200 4500 1800]\n",
      "\n",
      "Sorted Likes (Descending):\n",
      "[4500 2300 1800 1500 1200]\n",
      "\n",
      "Combined Likes and Views Array:\n",
      "[[ 1500 50000]\n",
      " [ 2300 70000]\n",
      " [ 1200 40000]\n",
      " [ 4500 90000]\n",
      " [ 1800 50000]]\n",
      "\n",
      "Reshaped Likes Array (2D):\n",
      "[[1500]\n",
      " [2300]\n",
      " [1200]\n",
      " [4500]\n",
      " [1800]]\n"
     ]
    }
   ],
   "source": [
    "# Advanced NumPy Operations\n",
    "\n",
    "# 8. Filtering: Get likes greater than 1000\n",
    "high_likes = likes_array[likes_array > 1000]\n",
    "print(\"\\nLikes Greater than 1000:\")\n",
    "print(high_likes)\n",
    "\n",
    "# 9. Sorting: Sort likes in descending order\n",
    "sorted_likes = np.sort(likes_array)[::-1]\n",
    "print(\"\\nSorted Likes (Descending):\")\n",
    "print(sorted_likes)\n",
    "\n",
    "# 10. Combining: Concatenate likes and views into a single array\n",
    "combined_array = np.concatenate((likes_array.reshape(-1, 1), views_array.reshape(-1, 1)), axis=1)\n",
    "print(\"\\nCombined Likes and Views Array:\")\n",
    "print(combined_array[:5])  # Display first 5 entries\n",
    "\n",
    "# 11. Reshaping: Reshape the likes array to a 2D array\n",
    "reshaped_likes = likes_array.reshape(-1, 1)\n",
    "print(\"\\nReshaped Likes Array (2D):\")\n",
    "print(reshaped_likes[:5])  # Display first 5 entries"
   ]
  },
  {
   "cell_type": "code",
   "execution_count": 8,
   "id": "b1cc4d1d",
   "metadata": {},
   "outputs": [
    {
     "name": "stdout",
     "output_type": "stream",
     "text": [
      "\n",
      "Videos with More Than 1000 Likes:\n",
      "       Video_Title  Likes\n",
      "0  Dance Challenge   1500\n",
      "1       Funny Skit   2300\n",
      "2         Tutorial   1200\n",
      "3      Viral Dance   4500\n",
      "4    Comedy Sketch   1800\n",
      "\n",
      "Dataset Sorted by Views (Descending):\n",
      "       Video_Title  Views\n",
      "3      Viral Dance  90000\n",
      "1       Funny Skit  70000\n",
      "0  Dance Challenge  50000\n",
      "4    Comedy Sketch  50000\n",
      "2         Tutorial  40000\n",
      "\n",
      "Average Likes by Category:\n",
      "          Likes\n",
      "Category       \n",
      "Comedy     2050\n",
      "Dance      3000\n",
      "Tutorial   1200\n"
     ]
    },
    {
     "data": {
      "image/png": "[encoded data removed]",
      "text/plain": [
       "<Figure size 1000x600 with 1 Axes>"
      ]
     },
     "metadata": {},
     "output_type": "display_data"
    }
   ],
   "source": [
    "# Advanced Pandas Operations\n",
    "\n",
    "# 12. Filtering: Filter videos with more than 1000 likes\n",
    "filtered_data = data[data['Likes'] > 1000]\n",
    "print(\"\\nVideos with More Than 1000 Likes:\")\n",
    "print(filtered_data[['Video_Title', 'Likes']].head())\n",
    "\n",
    "# 13. Sorting: Sort the dataset by Views in descending order\n",
    "sorted_data_by_views = data.sort_values(by='Views', ascending=False)\n",
    "print(\"\\nDataset Sorted by Views (Descending):\")\n",
    "print(sorted_data_by_views[['Video_Title', 'Views']].head())\n",
    "\n",
    "# 14. Reshaping: Pivot the data to show average likes by category\n",
    "pivot_table = data.pivot_table(values='Likes', index='Category', aggfunc='mean')\n",
    "print(\"\\nAverage Likes by Category:\")\n",
    "print(pivot_table)\n",
    "\n",
    "# 15. Visualization: Likes vs. Views\n",
    "plt.figure(figsize=(10, 6))\n",
    "plt.scatter(data['Views'], data['Likes'], color='blue', alpha=0.5)\n",
    "plt.title('Likes vs Views')\n",
    "plt.xlabel('Views')\n",
    "plt.ylabel('Likes')\n",
    "plt.grid()\n",
    "plt.show()"
   ]
  },
  {
   "cell_type": "code",
   "execution_count": null,
   "id": "670c25cd",
   "metadata": {},
   "outputs": [],
   "source": []
  }
 ],
 "metadata": {
  "kernelspec": {
   "display_name": "Python 3 (ipykernel)",
   "language": "python",
   "name": "python3"
  },
  "language_info": {
   "codemirror_mode": {
    "name": "ipython",
    "version": 3
   },
   "file_extension": ".py",
   "mimetype": "text/x-python",
   "name": "python",
   "nbconvert_exporter": "python",
   "pygments_lexer": "ipython3",
   "version": "3.11.4"
  }
 },
 "nbformat": 4,
 "nbformat_minor": 5
}
